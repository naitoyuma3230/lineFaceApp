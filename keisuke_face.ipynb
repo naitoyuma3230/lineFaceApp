{
 "cells": [
  {
   "cell_type": "code",
   "execution_count": 1,
   "id": "f1e853c2-f4e0-46cc-aee0-150e269df150",
   "metadata": {},
   "outputs": [],
   "source": [
    "from azure.cognitiveservices.vision.face import FaceClient\n",
    "from msrest.authentication import CognitiveServicesCredentials"
   ]
  },
  {
   "cell_type": "code",
   "execution_count": 2,
   "id": "bd4a500d-661f-4061-ba06-4f08cb02d92e",
   "metadata": {},
   "outputs": [],
   "source": [
    "KEY = 'b9a1d13e1f5448dba7d8b5999a9aa975'\n",
    "ENDPOINT = 'https://line-face-recognition.cognitiveservices.azure.com'\n",
    "# FaceAPIクライアントのインスタンス作成\n",
    "face_client = FaceClient(ENDPOINT, CognitiveServicesCredentials(KEY))"
   ]
  },
  {
   "cell_type": "code",
   "execution_count": 3,
   "id": "db98b0d3-4e28-40b7-a9ae-46540cb2af78",
   "metadata": {},
   "outputs": [],
   "source": [
    "# Person GroupのIDを指定\n",
    "person_group_id = 'keisuke'"
   ]
  },
  {
   "cell_type": "code",
   "execution_count": null,
   "id": "74013cd6-8b84-4045-8a73-dc268ec99713",
   "metadata": {},
   "outputs": [],
   "source": [
    "# keisukeというグループを作成する\n",
    "face_client.person_group.create(\n",
    "    person_group_id,\n",
    "    name = \"keisuke group\"\n",
    ")\n",
    "\n",
    "# グループ削除\n",
    "# face_client.person_group.delete(person_group_id)"
   ]
  },
  {
   "cell_type": "code",
   "execution_count": 14,
   "id": "1c81c1a3-595e-4aca-ad65-983601bf60e8",
   "metadata": {},
   "outputs": [
    {
     "name": "stdout",
     "output_type": "stream",
     "text": [
      "{'additional_properties': {}, 'name': 'keisuke group', 'user_data': None, 'recognition_model': None, 'person_group_id': 'keisuke'}\n"
     ]
    }
   ],
   "source": [
    "# person groupを確認\n",
    "group_keisuke = face_client.person_group.get(person_group_id)\n",
    "print(group_keisuke)\n"
   ]
  },
  {
   "cell_type": "code",
   "execution_count": 15,
   "id": "29159132-8ceb-4ade-aaf4-e31d0a273f7e",
   "metadata": {},
   "outputs": [],
   "source": [
    "# TashiroKeisukeの名前を登録\n",
    "keisuke_name = 'Tashiro Keisuke'\n"
   ]
  },
  {
   "cell_type": "code",
   "execution_count": null,
   "id": "7698dc64-3364-430f-931d-99a4644fbaa5",
   "metadata": {},
   "outputs": [],
   "source": [
    "# keisuke_groupにkeisukeという名前のPersonを登録\n",
    "keisuke = face_client.person_group_person.create(\n",
    "    person_group_id = group_keisuke.person_group_id, # PersonGroupのIDを指定\n",
    "    name = keisuke_name # 登録するPersonの名前を指定\n",
    ")\n",
    "print(keisuke)"
   ]
  },
  {
   "cell_type": "code",
   "execution_count": 17,
   "id": "01d552b1-8c09-44b1-b412-07a1c2cc30d3",
   "metadata": {},
   "outputs": [
    {
     "name": "stdout",
     "output_type": "stream",
     "text": [
      "{'additional_properties': {}, 'persisted_face_id': '5887998a-2704-4ff0-8771-ec49653bbeb1', 'user_data': None}\n",
      "{'additional_properties': {}, 'persisted_face_id': '4076f3ac-a8b9-4d15-a352-49ed8b113e40', 'user_data': None}\n",
      "{'additional_properties': {}, 'persisted_face_id': 'b52a74ea-d15e-4cf7-b497-07f1eacde7d8', 'user_data': None}\n",
      "{'additional_properties': {}, 'persisted_face_id': 'f8fe2a53-9a02-40c9-92b4-176ce0bc122f', 'user_data': None}\n"
     ]
    }
   ],
   "source": [
    "# 画像送信でケイスケ写真をPersonに紐づける\n",
    "with open('img/IMG_2857.JPG', 'rb') as image:\n",
    "    keisuke_face_1 = face_client.person_group_person.add_face_from_stream(\n",
    "        person_group_id = group_keisuke.person_group_id,\n",
    "        person_id = keisuke.person_id,\n",
    "        image = image\n",
    "    )\n",
    "with open('img/IMG_2859.JPG', 'rb') as image:\n",
    "    keisuke_face_2 = face_client.person_group_person.add_face_from_stream(\n",
    "        person_group_id = group_keisuke.person_group_id,\n",
    "        person_id = keisuke.person_id,\n",
    "        image = image\n",
    "    )\n",
    "with open('img/IMG_2860.JPG', 'rb') as image:\n",
    "    keisuke_face_3 = face_client.person_group_person.add_face_from_stream(\n",
    "        person_group_id = group_keisuke.person_group_id,\n",
    "        person_id = keisuke.person_id,\n",
    "        image = image\n",
    "    )\n",
    "with open('img/IMG_2861.JPG', 'rb') as image:\n",
    "    keisuke_face_4 = face_client.person_group_person.add_face_from_stream(\n",
    "        person_group_id = group_keisuke.person_group_id,\n",
    "        person_id = keisuke.person_id,\n",
    "        image = image\n",
    "    )\n",
    "\n",
    "# ケイスケPersonに登録した画像情報\n",
    "print(keisuke_face_1)\n",
    "print(keisuke_face_2)\n",
    "print(keisuke_face_3)\n",
    "print(keisuke_face_4)"
   ]
  },
  {
   "cell_type": "code",
   "execution_count": 40,
   "id": "2938e0c6-efa4-46ac-9b11-2e14c8d144df",
   "metadata": {},
   "outputs": [
    {
     "ename": "KeyboardInterrupt",
     "evalue": "",
     "output_type": "error",
     "traceback": [
      "\u001b[0;31m---------------------------------------------------------------------------\u001b[0m",
      "\u001b[0;31mKeyboardInterrupt\u001b[0m                         Traceback (most recent call last)",
      "\u001b[1;32m/home/jovyan/plactice/lineFaceApp/keisuke_face.ipynb Cell 9'\u001b[0m in \u001b[0;36m<cell line: 3>\u001b[0;34m()\u001b[0m\n\u001b[1;32m      <a href='vscode-notebook-cell://attached-container%2B7b22636f6e7461696e65724e616d65223a222f6a7570797465722d70726f6a6563745f6a7570797465725f31227d/home/jovyan/plactice/lineFaceApp/keisuke_face.ipynb#ch0000008vscode-remote?line=0'>1</a>\u001b[0m \u001b[39m# PersonGroupPerson get で最新のPerson情報を取得する\u001b[39;00m\n\u001b[1;32m      <a href='vscode-notebook-cell://attached-container%2B7b22636f6e7461696e65724e616d65223a222f6a7570797465722d70726f6a6563745f6a7570797465725f31227d/home/jovyan/plactice/lineFaceApp/keisuke_face.ipynb#ch0000008vscode-remote?line=1'>2</a>\u001b[0m \u001b[39m# 上記で登録した画像idが含まれているはず\u001b[39;00m\n\u001b[0;32m----> <a href='vscode-notebook-cell://attached-container%2B7b22636f6e7461696e65724e616d65223a222f6a7570797465722d70726f6a6563745f6a7570797465725f31227d/home/jovyan/plactice/lineFaceApp/keisuke_face.ipynb#ch0000008vscode-remote?line=2'>3</a>\u001b[0m keisuke \u001b[39m=\u001b[39m face_client\u001b[39m.\u001b[39;49mperson_group_person\u001b[39m.\u001b[39;49mget(\n\u001b[1;32m      <a href='vscode-notebook-cell://attached-container%2B7b22636f6e7461696e65724e616d65223a222f6a7570797465722d70726f6a6563745f6a7570797465725f31227d/home/jovyan/plactice/lineFaceApp/keisuke_face.ipynb#ch0000008vscode-remote?line=3'>4</a>\u001b[0m         person_group_id \u001b[39m=\u001b[39;49m group_keisuke\u001b[39m.\u001b[39;49mperson_group_id,\n\u001b[1;32m      <a href='vscode-notebook-cell://attached-container%2B7b22636f6e7461696e65724e616d65223a222f6a7570797465722d70726f6a6563745f6a7570797465725f31227d/home/jovyan/plactice/lineFaceApp/keisuke_face.ipynb#ch0000008vscode-remote?line=4'>5</a>\u001b[0m         person_id \u001b[39m=\u001b[39;49m keisuke\u001b[39m.\u001b[39;49mperson_id\n\u001b[1;32m      <a href='vscode-notebook-cell://attached-container%2B7b22636f6e7461696e65724e616d65223a222f6a7570797465722d70726f6a6563745f6a7570797465725f31227d/home/jovyan/plactice/lineFaceApp/keisuke_face.ipynb#ch0000008vscode-remote?line=5'>6</a>\u001b[0m     )\n\u001b[1;32m      <a href='vscode-notebook-cell://attached-container%2B7b22636f6e7461696e65724e616d65223a222f6a7570797465722d70726f6a6563745f6a7570797465725f31227d/home/jovyan/plactice/lineFaceApp/keisuke_face.ipynb#ch0000008vscode-remote?line=6'>7</a>\u001b[0m \u001b[39mprint\u001b[39m(keisuke)\n",
      "File \u001b[0;32m/usr/local/lib/python3.10/site-packages/azure/cognitiveservices/vision/face/operations/_person_group_person_operations.py:253\u001b[0m, in \u001b[0;36mPersonGroupPersonOperations.get\u001b[0;34m(self, person_group_id, person_id, custom_headers, raw, **operation_config)\u001b[0m\n\u001b[1;32m    <a href='file:///usr/local/lib/python3.10/site-packages/azure/cognitiveservices/vision/face/operations/_person_group_person_operations.py?line=250'>251</a>\u001b[0m \u001b[39m# Construct and send request\u001b[39;00m\n\u001b[1;32m    <a href='file:///usr/local/lib/python3.10/site-packages/azure/cognitiveservices/vision/face/operations/_person_group_person_operations.py?line=251'>252</a>\u001b[0m request \u001b[39m=\u001b[39m \u001b[39mself\u001b[39m\u001b[39m.\u001b[39m_client\u001b[39m.\u001b[39mget(url, query_parameters, header_parameters)\n\u001b[0;32m--> <a href='file:///usr/local/lib/python3.10/site-packages/azure/cognitiveservices/vision/face/operations/_person_group_person_operations.py?line=252'>253</a>\u001b[0m response \u001b[39m=\u001b[39m \u001b[39mself\u001b[39;49m\u001b[39m.\u001b[39;49m_client\u001b[39m.\u001b[39;49msend(request, stream\u001b[39m=\u001b[39;49m\u001b[39mFalse\u001b[39;49;00m, \u001b[39m*\u001b[39;49m\u001b[39m*\u001b[39;49moperation_config)\n\u001b[1;32m    <a href='file:///usr/local/lib/python3.10/site-packages/azure/cognitiveservices/vision/face/operations/_person_group_person_operations.py?line=254'>255</a>\u001b[0m \u001b[39mif\u001b[39;00m response\u001b[39m.\u001b[39mstatus_code \u001b[39mnot\u001b[39;00m \u001b[39min\u001b[39;00m [\u001b[39m200\u001b[39m]:\n\u001b[1;32m    <a href='file:///usr/local/lib/python3.10/site-packages/azure/cognitiveservices/vision/face/operations/_person_group_person_operations.py?line=255'>256</a>\u001b[0m     \u001b[39mraise\u001b[39;00m models\u001b[39m.\u001b[39mAPIErrorException(\u001b[39mself\u001b[39m\u001b[39m.\u001b[39m_deserialize, response)\n",
      "File \u001b[0;32m/usr/local/lib/python3.10/site-packages/msrest/service_client.py:336\u001b[0m, in \u001b[0;36mServiceClient.send\u001b[0;34m(self, request, headers, content, **kwargs)\u001b[0m\n\u001b[1;32m    <a href='file:///usr/local/lib/python3.10/site-packages/msrest/service_client.py?line=333'>334</a>\u001b[0m kwargs\u001b[39m.\u001b[39msetdefault(\u001b[39m'\u001b[39m\u001b[39mstream\u001b[39m\u001b[39m'\u001b[39m, \u001b[39mTrue\u001b[39;00m)\n\u001b[1;32m    <a href='file:///usr/local/lib/python3.10/site-packages/msrest/service_client.py?line=334'>335</a>\u001b[0m \u001b[39mtry\u001b[39;00m:\n\u001b[0;32m--> <a href='file:///usr/local/lib/python3.10/site-packages/msrest/service_client.py?line=335'>336</a>\u001b[0m     pipeline_response \u001b[39m=\u001b[39m \u001b[39mself\u001b[39;49m\u001b[39m.\u001b[39;49mconfig\u001b[39m.\u001b[39;49mpipeline\u001b[39m.\u001b[39;49mrun(request, \u001b[39m*\u001b[39;49m\u001b[39m*\u001b[39;49mkwargs)\n\u001b[1;32m    <a href='file:///usr/local/lib/python3.10/site-packages/msrest/service_client.py?line=336'>337</a>\u001b[0m     \u001b[39m# There is too much thing that expects this method to return a \"requests.Response\"\u001b[39;00m\n\u001b[1;32m    <a href='file:///usr/local/lib/python3.10/site-packages/msrest/service_client.py?line=337'>338</a>\u001b[0m     \u001b[39m# to break it in a compatible release.\u001b[39;00m\n\u001b[1;32m    <a href='file:///usr/local/lib/python3.10/site-packages/msrest/service_client.py?line=338'>339</a>\u001b[0m     \u001b[39m# Also, to be pragmatic in the \"sync\" world \"requests\" rules anyway.\u001b[39;00m\n\u001b[1;32m    <a href='file:///usr/local/lib/python3.10/site-packages/msrest/service_client.py?line=339'>340</a>\u001b[0m     \u001b[39m# However, attach the Universal HTTP response\u001b[39;00m\n\u001b[1;32m    <a href='file:///usr/local/lib/python3.10/site-packages/msrest/service_client.py?line=340'>341</a>\u001b[0m     \u001b[39m# to get the streaming generator.\u001b[39;00m\n\u001b[1;32m    <a href='file:///usr/local/lib/python3.10/site-packages/msrest/service_client.py?line=341'>342</a>\u001b[0m     response \u001b[39m=\u001b[39m pipeline_response\u001b[39m.\u001b[39mhttp_response\u001b[39m.\u001b[39minternal_response\n",
      "File \u001b[0;32m/usr/local/lib/python3.10/site-packages/msrest/pipeline/__init__.py:197\u001b[0m, in \u001b[0;36mPipeline.run\u001b[0;34m(self, request, **kwargs)\u001b[0m\n\u001b[1;32m    <a href='file:///usr/local/lib/python3.10/site-packages/msrest/pipeline/__init__.py?line=194'>195</a>\u001b[0m pipeline_request \u001b[39m=\u001b[39m Request(request, context)  \u001b[39m# type: Request[HTTPRequestType]\u001b[39;00m\n\u001b[1;32m    <a href='file:///usr/local/lib/python3.10/site-packages/msrest/pipeline/__init__.py?line=195'>196</a>\u001b[0m first_node \u001b[39m=\u001b[39m \u001b[39mself\u001b[39m\u001b[39m.\u001b[39m_impl_policies[\u001b[39m0\u001b[39m] \u001b[39mif\u001b[39;00m \u001b[39mself\u001b[39m\u001b[39m.\u001b[39m_impl_policies \u001b[39melse\u001b[39;00m \u001b[39mself\u001b[39m\u001b[39m.\u001b[39m_sender\n\u001b[0;32m--> <a href='file:///usr/local/lib/python3.10/site-packages/msrest/pipeline/__init__.py?line=196'>197</a>\u001b[0m \u001b[39mreturn\u001b[39;00m first_node\u001b[39m.\u001b[39;49msend(pipeline_request, \u001b[39m*\u001b[39;49m\u001b[39m*\u001b[39;49mkwargs)\n",
      "File \u001b[0;32m/usr/local/lib/python3.10/site-packages/msrest/pipeline/__init__.py:150\u001b[0m, in \u001b[0;36m_SansIOHTTPPolicyRunner.send\u001b[0;34m(self, request, **kwargs)\u001b[0m\n\u001b[1;32m    <a href='file:///usr/local/lib/python3.10/site-packages/msrest/pipeline/__init__.py?line=147'>148</a>\u001b[0m \u001b[39mself\u001b[39m\u001b[39m.\u001b[39m_policy\u001b[39m.\u001b[39mon_request(request, \u001b[39m*\u001b[39m\u001b[39m*\u001b[39mkwargs)\n\u001b[1;32m    <a href='file:///usr/local/lib/python3.10/site-packages/msrest/pipeline/__init__.py?line=148'>149</a>\u001b[0m \u001b[39mtry\u001b[39;00m:\n\u001b[0;32m--> <a href='file:///usr/local/lib/python3.10/site-packages/msrest/pipeline/__init__.py?line=149'>150</a>\u001b[0m     response \u001b[39m=\u001b[39m \u001b[39mself\u001b[39;49m\u001b[39m.\u001b[39;49mnext\u001b[39m.\u001b[39;49msend(request, \u001b[39m*\u001b[39;49m\u001b[39m*\u001b[39;49mkwargs)\n\u001b[1;32m    <a href='file:///usr/local/lib/python3.10/site-packages/msrest/pipeline/__init__.py?line=150'>151</a>\u001b[0m \u001b[39mexcept\u001b[39;00m \u001b[39mException\u001b[39;00m:\n\u001b[1;32m    <a href='file:///usr/local/lib/python3.10/site-packages/msrest/pipeline/__init__.py?line=151'>152</a>\u001b[0m     \u001b[39mif\u001b[39;00m \u001b[39mnot\u001b[39;00m \u001b[39mself\u001b[39m\u001b[39m.\u001b[39m_policy\u001b[39m.\u001b[39mon_exception(request, \u001b[39m*\u001b[39m\u001b[39m*\u001b[39mkwargs):\n",
      "File \u001b[0;32m/usr/local/lib/python3.10/site-packages/msrest/pipeline/requests.py:72\u001b[0m, in \u001b[0;36mRequestsCredentialsPolicy.send\u001b[0;34m(self, request, **kwargs)\u001b[0m\n\u001b[1;32m     <a href='file:///usr/local/lib/python3.10/site-packages/msrest/pipeline/requests.py?line=69'>70</a>\u001b[0m \u001b[39mtry\u001b[39;00m:\n\u001b[1;32m     <a href='file:///usr/local/lib/python3.10/site-packages/msrest/pipeline/requests.py?line=70'>71</a>\u001b[0m     \u001b[39mtry\u001b[39;00m:\n\u001b[0;32m---> <a href='file:///usr/local/lib/python3.10/site-packages/msrest/pipeline/requests.py?line=71'>72</a>\u001b[0m         \u001b[39mreturn\u001b[39;00m \u001b[39mself\u001b[39;49m\u001b[39m.\u001b[39;49mnext\u001b[39m.\u001b[39;49msend(request, \u001b[39m*\u001b[39;49m\u001b[39m*\u001b[39;49mkwargs)\n\u001b[1;32m     <a href='file:///usr/local/lib/python3.10/site-packages/msrest/pipeline/requests.py?line=72'>73</a>\u001b[0m     \u001b[39mexcept\u001b[39;00m (oauth2\u001b[39m.\u001b[39mrfc6749\u001b[39m.\u001b[39merrors\u001b[39m.\u001b[39mInvalidGrantError,\n\u001b[1;32m     <a href='file:///usr/local/lib/python3.10/site-packages/msrest/pipeline/requests.py?line=73'>74</a>\u001b[0m             oauth2\u001b[39m.\u001b[39mrfc6749\u001b[39m.\u001b[39merrors\u001b[39m.\u001b[39mTokenExpiredError) \u001b[39mas\u001b[39;00m err:\n\u001b[1;32m     <a href='file:///usr/local/lib/python3.10/site-packages/msrest/pipeline/requests.py?line=74'>75</a>\u001b[0m         error \u001b[39m=\u001b[39m \u001b[39m\"\u001b[39m\u001b[39mToken expired or is invalid. Attempting to refresh.\u001b[39m\u001b[39m\"\u001b[39m\n",
      "File \u001b[0;32m/usr/local/lib/python3.10/site-packages/msrest/pipeline/requests.py:137\u001b[0m, in \u001b[0;36mRequestsPatchSession.send\u001b[0;34m(self, request, **kwargs)\u001b[0m\n\u001b[1;32m    <a href='file:///usr/local/lib/python3.10/site-packages/msrest/pipeline/requests.py?line=133'>134</a>\u001b[0m         session\u001b[39m.\u001b[39madapters[protocol]\u001b[39m.\u001b[39mmax_retries \u001b[39m=\u001b[39m max_retries\n\u001b[1;32m    <a href='file:///usr/local/lib/python3.10/site-packages/msrest/pipeline/requests.py?line=135'>136</a>\u001b[0m \u001b[39mtry\u001b[39;00m:\n\u001b[0;32m--> <a href='file:///usr/local/lib/python3.10/site-packages/msrest/pipeline/requests.py?line=136'>137</a>\u001b[0m     \u001b[39mreturn\u001b[39;00m \u001b[39mself\u001b[39;49m\u001b[39m.\u001b[39;49mnext\u001b[39m.\u001b[39;49msend(request, \u001b[39m*\u001b[39;49m\u001b[39m*\u001b[39;49mkwargs)\n\u001b[1;32m    <a href='file:///usr/local/lib/python3.10/site-packages/msrest/pipeline/requests.py?line=137'>138</a>\u001b[0m \u001b[39mfinally\u001b[39;00m:\n\u001b[1;32m    <a href='file:///usr/local/lib/python3.10/site-packages/msrest/pipeline/requests.py?line=138'>139</a>\u001b[0m     \u001b[39mif\u001b[39;00m old_max_redirects:\n",
      "File \u001b[0;32m/usr/local/lib/python3.10/site-packages/msrest/pipeline/__init__.py:150\u001b[0m, in \u001b[0;36m_SansIOHTTPPolicyRunner.send\u001b[0;34m(self, request, **kwargs)\u001b[0m\n\u001b[1;32m    <a href='file:///usr/local/lib/python3.10/site-packages/msrest/pipeline/__init__.py?line=147'>148</a>\u001b[0m \u001b[39mself\u001b[39m\u001b[39m.\u001b[39m_policy\u001b[39m.\u001b[39mon_request(request, \u001b[39m*\u001b[39m\u001b[39m*\u001b[39mkwargs)\n\u001b[1;32m    <a href='file:///usr/local/lib/python3.10/site-packages/msrest/pipeline/__init__.py?line=148'>149</a>\u001b[0m \u001b[39mtry\u001b[39;00m:\n\u001b[0;32m--> <a href='file:///usr/local/lib/python3.10/site-packages/msrest/pipeline/__init__.py?line=149'>150</a>\u001b[0m     response \u001b[39m=\u001b[39m \u001b[39mself\u001b[39;49m\u001b[39m.\u001b[39;49mnext\u001b[39m.\u001b[39;49msend(request, \u001b[39m*\u001b[39;49m\u001b[39m*\u001b[39;49mkwargs)\n\u001b[1;32m    <a href='file:///usr/local/lib/python3.10/site-packages/msrest/pipeline/__init__.py?line=150'>151</a>\u001b[0m \u001b[39mexcept\u001b[39;00m \u001b[39mException\u001b[39;00m:\n\u001b[1;32m    <a href='file:///usr/local/lib/python3.10/site-packages/msrest/pipeline/__init__.py?line=151'>152</a>\u001b[0m     \u001b[39mif\u001b[39;00m \u001b[39mnot\u001b[39;00m \u001b[39mself\u001b[39m\u001b[39m.\u001b[39m_policy\u001b[39m.\u001b[39mon_exception(request, \u001b[39m*\u001b[39m\u001b[39m*\u001b[39mkwargs):\n",
      "File \u001b[0;32m/usr/local/lib/python3.10/site-packages/msrest/pipeline/requests.py:193\u001b[0m, in \u001b[0;36mPipelineRequestsHTTPSender.send\u001b[0;34m(self, request, **kwargs)\u001b[0m\n\u001b[1;32m    <a href='file:///usr/local/lib/python3.10/site-packages/msrest/pipeline/requests.py?line=187'>188</a>\u001b[0m \u001b[39mif\u001b[39;00m request\u001b[39m.\u001b[39mcontext\u001b[39m.\u001b[39msession \u001b[39mis\u001b[39;00m \u001b[39mnot\u001b[39;00m \u001b[39mself\u001b[39m\u001b[39m.\u001b[39mdriver\u001b[39m.\u001b[39msession:\n\u001b[1;32m    <a href='file:///usr/local/lib/python3.10/site-packages/msrest/pipeline/requests.py?line=188'>189</a>\u001b[0m     kwargs[\u001b[39m'\u001b[39m\u001b[39msession\u001b[39m\u001b[39m'\u001b[39m] \u001b[39m=\u001b[39m request\u001b[39m.\u001b[39mcontext\u001b[39m.\u001b[39msession\n\u001b[1;32m    <a href='file:///usr/local/lib/python3.10/site-packages/msrest/pipeline/requests.py?line=190'>191</a>\u001b[0m \u001b[39mreturn\u001b[39;00m Response(\n\u001b[1;32m    <a href='file:///usr/local/lib/python3.10/site-packages/msrest/pipeline/requests.py?line=191'>192</a>\u001b[0m     request,\n\u001b[0;32m--> <a href='file:///usr/local/lib/python3.10/site-packages/msrest/pipeline/requests.py?line=192'>193</a>\u001b[0m     \u001b[39mself\u001b[39;49m\u001b[39m.\u001b[39;49mdriver\u001b[39m.\u001b[39;49msend(request\u001b[39m.\u001b[39;49mhttp_request, \u001b[39m*\u001b[39;49m\u001b[39m*\u001b[39;49mkwargs)\n\u001b[1;32m    <a href='file:///usr/local/lib/python3.10/site-packages/msrest/pipeline/requests.py?line=193'>194</a>\u001b[0m )\n",
      "File \u001b[0;32m/usr/local/lib/python3.10/site-packages/msrest/universal_http/requests.py:333\u001b[0m, in \u001b[0;36mRequestsHTTPSender.send\u001b[0;34m(self, request, **kwargs)\u001b[0m\n\u001b[1;32m    <a href='file:///usr/local/lib/python3.10/site-packages/msrest/universal_http/requests.py?line=313'>314</a>\u001b[0m \u001b[39m\"\"\"Send request object according to configuration.\u001b[39;00m\n\u001b[1;32m    <a href='file:///usr/local/lib/python3.10/site-packages/msrest/universal_http/requests.py?line=314'>315</a>\u001b[0m \n\u001b[1;32m    <a href='file:///usr/local/lib/python3.10/site-packages/msrest/universal_http/requests.py?line=315'>316</a>\u001b[0m \u001b[39mAvailable kwargs:\u001b[39;00m\n\u001b[0;32m   (...)\u001b[0m\n\u001b[1;32m    <a href='file:///usr/local/lib/python3.10/site-packages/msrest/universal_http/requests.py?line=329'>330</a>\u001b[0m \u001b[39m:param ClientRequest request: The request object to be sent.\u001b[39;00m\n\u001b[1;32m    <a href='file:///usr/local/lib/python3.10/site-packages/msrest/universal_http/requests.py?line=330'>331</a>\u001b[0m \u001b[39m\"\"\"\u001b[39;00m\n\u001b[1;32m    <a href='file:///usr/local/lib/python3.10/site-packages/msrest/universal_http/requests.py?line=331'>332</a>\u001b[0m requests_kwargs \u001b[39m=\u001b[39m \u001b[39mself\u001b[39m\u001b[39m.\u001b[39m_configure_send(request, \u001b[39m*\u001b[39m\u001b[39m*\u001b[39mkwargs)\n\u001b[0;32m--> <a href='file:///usr/local/lib/python3.10/site-packages/msrest/universal_http/requests.py?line=332'>333</a>\u001b[0m \u001b[39mreturn\u001b[39;00m \u001b[39msuper\u001b[39;49m(RequestsHTTPSender, \u001b[39mself\u001b[39;49m)\u001b[39m.\u001b[39;49msend(request, \u001b[39m*\u001b[39;49m\u001b[39m*\u001b[39;49mrequests_kwargs)\n",
      "File \u001b[0;32m/usr/local/lib/python3.10/site-packages/msrest/universal_http/requests.py:139\u001b[0m, in \u001b[0;36mBasicRequestsHTTPSender.send\u001b[0;34m(self, request, **kwargs)\u001b[0m\n\u001b[1;32m    <a href='file:///usr/local/lib/python3.10/site-packages/msrest/universal_http/requests.py?line=136'>137</a>\u001b[0m session \u001b[39m=\u001b[39m kwargs\u001b[39m.\u001b[39mpop(\u001b[39m'\u001b[39m\u001b[39msession\u001b[39m\u001b[39m'\u001b[39m, \u001b[39mself\u001b[39m\u001b[39m.\u001b[39msession)\n\u001b[1;32m    <a href='file:///usr/local/lib/python3.10/site-packages/msrest/universal_http/requests.py?line=137'>138</a>\u001b[0m \u001b[39mtry\u001b[39;00m:\n\u001b[0;32m--> <a href='file:///usr/local/lib/python3.10/site-packages/msrest/universal_http/requests.py?line=138'>139</a>\u001b[0m     response \u001b[39m=\u001b[39m session\u001b[39m.\u001b[39;49mrequest(\n\u001b[1;32m    <a href='file:///usr/local/lib/python3.10/site-packages/msrest/universal_http/requests.py?line=139'>140</a>\u001b[0m         request\u001b[39m.\u001b[39;49mmethod,\n\u001b[1;32m    <a href='file:///usr/local/lib/python3.10/site-packages/msrest/universal_http/requests.py?line=140'>141</a>\u001b[0m         request\u001b[39m.\u001b[39;49murl,\n\u001b[1;32m    <a href='file:///usr/local/lib/python3.10/site-packages/msrest/universal_http/requests.py?line=141'>142</a>\u001b[0m         \u001b[39m*\u001b[39;49m\u001b[39m*\u001b[39;49mkwargs)\n\u001b[1;32m    <a href='file:///usr/local/lib/python3.10/site-packages/msrest/universal_http/requests.py?line=142'>143</a>\u001b[0m \u001b[39mexcept\u001b[39;00m requests\u001b[39m.\u001b[39mRequestException \u001b[39mas\u001b[39;00m err:\n\u001b[1;32m    <a href='file:///usr/local/lib/python3.10/site-packages/msrest/universal_http/requests.py?line=143'>144</a>\u001b[0m     msg \u001b[39m=\u001b[39m \u001b[39m\"\u001b[39m\u001b[39mError occurred in request.\u001b[39m\u001b[39m\"\u001b[39m\n",
      "File \u001b[0;32m/usr/local/lib/python3.10/site-packages/requests/sessions.py:529\u001b[0m, in \u001b[0;36mSession.request\u001b[0;34m(self, method, url, params, data, headers, cookies, files, auth, timeout, allow_redirects, proxies, hooks, stream, verify, cert, json)\u001b[0m\n\u001b[1;32m    <a href='file:///usr/local/lib/python3.10/site-packages/requests/sessions.py?line=523'>524</a>\u001b[0m send_kwargs \u001b[39m=\u001b[39m {\n\u001b[1;32m    <a href='file:///usr/local/lib/python3.10/site-packages/requests/sessions.py?line=524'>525</a>\u001b[0m     \u001b[39m'\u001b[39m\u001b[39mtimeout\u001b[39m\u001b[39m'\u001b[39m: timeout,\n\u001b[1;32m    <a href='file:///usr/local/lib/python3.10/site-packages/requests/sessions.py?line=525'>526</a>\u001b[0m     \u001b[39m'\u001b[39m\u001b[39mallow_redirects\u001b[39m\u001b[39m'\u001b[39m: allow_redirects,\n\u001b[1;32m    <a href='file:///usr/local/lib/python3.10/site-packages/requests/sessions.py?line=526'>527</a>\u001b[0m }\n\u001b[1;32m    <a href='file:///usr/local/lib/python3.10/site-packages/requests/sessions.py?line=527'>528</a>\u001b[0m send_kwargs\u001b[39m.\u001b[39mupdate(settings)\n\u001b[0;32m--> <a href='file:///usr/local/lib/python3.10/site-packages/requests/sessions.py?line=528'>529</a>\u001b[0m resp \u001b[39m=\u001b[39m \u001b[39mself\u001b[39;49m\u001b[39m.\u001b[39;49msend(prep, \u001b[39m*\u001b[39;49m\u001b[39m*\u001b[39;49msend_kwargs)\n\u001b[1;32m    <a href='file:///usr/local/lib/python3.10/site-packages/requests/sessions.py?line=530'>531</a>\u001b[0m \u001b[39mreturn\u001b[39;00m resp\n",
      "File \u001b[0;32m/usr/local/lib/python3.10/site-packages/requests/sessions.py:645\u001b[0m, in \u001b[0;36mSession.send\u001b[0;34m(self, request, **kwargs)\u001b[0m\n\u001b[1;32m    <a href='file:///usr/local/lib/python3.10/site-packages/requests/sessions.py?line=641'>642</a>\u001b[0m start \u001b[39m=\u001b[39m preferred_clock()\n\u001b[1;32m    <a href='file:///usr/local/lib/python3.10/site-packages/requests/sessions.py?line=643'>644</a>\u001b[0m \u001b[39m# Send the request\u001b[39;00m\n\u001b[0;32m--> <a href='file:///usr/local/lib/python3.10/site-packages/requests/sessions.py?line=644'>645</a>\u001b[0m r \u001b[39m=\u001b[39m adapter\u001b[39m.\u001b[39;49msend(request, \u001b[39m*\u001b[39;49m\u001b[39m*\u001b[39;49mkwargs)\n\u001b[1;32m    <a href='file:///usr/local/lib/python3.10/site-packages/requests/sessions.py?line=646'>647</a>\u001b[0m \u001b[39m# Total elapsed time of the request (approximately)\u001b[39;00m\n\u001b[1;32m    <a href='file:///usr/local/lib/python3.10/site-packages/requests/sessions.py?line=647'>648</a>\u001b[0m elapsed \u001b[39m=\u001b[39m preferred_clock() \u001b[39m-\u001b[39m start\n",
      "File \u001b[0;32m/usr/local/lib/python3.10/site-packages/requests/adapters.py:440\u001b[0m, in \u001b[0;36mHTTPAdapter.send\u001b[0;34m(self, request, stream, timeout, verify, cert, proxies)\u001b[0m\n\u001b[1;32m    <a href='file:///usr/local/lib/python3.10/site-packages/requests/adapters.py?line=437'>438</a>\u001b[0m \u001b[39mtry\u001b[39;00m:\n\u001b[1;32m    <a href='file:///usr/local/lib/python3.10/site-packages/requests/adapters.py?line=438'>439</a>\u001b[0m     \u001b[39mif\u001b[39;00m \u001b[39mnot\u001b[39;00m chunked:\n\u001b[0;32m--> <a href='file:///usr/local/lib/python3.10/site-packages/requests/adapters.py?line=439'>440</a>\u001b[0m         resp \u001b[39m=\u001b[39m conn\u001b[39m.\u001b[39;49murlopen(\n\u001b[1;32m    <a href='file:///usr/local/lib/python3.10/site-packages/requests/adapters.py?line=440'>441</a>\u001b[0m             method\u001b[39m=\u001b[39;49mrequest\u001b[39m.\u001b[39;49mmethod,\n\u001b[1;32m    <a href='file:///usr/local/lib/python3.10/site-packages/requests/adapters.py?line=441'>442</a>\u001b[0m             url\u001b[39m=\u001b[39;49murl,\n\u001b[1;32m    <a href='file:///usr/local/lib/python3.10/site-packages/requests/adapters.py?line=442'>443</a>\u001b[0m             body\u001b[39m=\u001b[39;49mrequest\u001b[39m.\u001b[39;49mbody,\n\u001b[1;32m    <a href='file:///usr/local/lib/python3.10/site-packages/requests/adapters.py?line=443'>444</a>\u001b[0m             headers\u001b[39m=\u001b[39;49mrequest\u001b[39m.\u001b[39;49mheaders,\n\u001b[1;32m    <a href='file:///usr/local/lib/python3.10/site-packages/requests/adapters.py?line=444'>445</a>\u001b[0m             redirect\u001b[39m=\u001b[39;49m\u001b[39mFalse\u001b[39;49;00m,\n\u001b[1;32m    <a href='file:///usr/local/lib/python3.10/site-packages/requests/adapters.py?line=445'>446</a>\u001b[0m             assert_same_host\u001b[39m=\u001b[39;49m\u001b[39mFalse\u001b[39;49;00m,\n\u001b[1;32m    <a href='file:///usr/local/lib/python3.10/site-packages/requests/adapters.py?line=446'>447</a>\u001b[0m             preload_content\u001b[39m=\u001b[39;49m\u001b[39mFalse\u001b[39;49;00m,\n\u001b[1;32m    <a href='file:///usr/local/lib/python3.10/site-packages/requests/adapters.py?line=447'>448</a>\u001b[0m             decode_content\u001b[39m=\u001b[39;49m\u001b[39mFalse\u001b[39;49;00m,\n\u001b[1;32m    <a href='file:///usr/local/lib/python3.10/site-packages/requests/adapters.py?line=448'>449</a>\u001b[0m             retries\u001b[39m=\u001b[39;49m\u001b[39mself\u001b[39;49m\u001b[39m.\u001b[39;49mmax_retries,\n\u001b[1;32m    <a href='file:///usr/local/lib/python3.10/site-packages/requests/adapters.py?line=449'>450</a>\u001b[0m             timeout\u001b[39m=\u001b[39;49mtimeout\n\u001b[1;32m    <a href='file:///usr/local/lib/python3.10/site-packages/requests/adapters.py?line=450'>451</a>\u001b[0m         )\n\u001b[1;32m    <a href='file:///usr/local/lib/python3.10/site-packages/requests/adapters.py?line=452'>453</a>\u001b[0m     \u001b[39m# Send the request.\u001b[39;00m\n\u001b[1;32m    <a href='file:///usr/local/lib/python3.10/site-packages/requests/adapters.py?line=453'>454</a>\u001b[0m     \u001b[39melse\u001b[39;00m:\n\u001b[1;32m    <a href='file:///usr/local/lib/python3.10/site-packages/requests/adapters.py?line=454'>455</a>\u001b[0m         \u001b[39mif\u001b[39;00m \u001b[39mhasattr\u001b[39m(conn, \u001b[39m'\u001b[39m\u001b[39mproxy_pool\u001b[39m\u001b[39m'\u001b[39m):\n",
      "File \u001b[0;32m/usr/local/lib/python3.10/site-packages/urllib3/connectionpool.py:703\u001b[0m, in \u001b[0;36mHTTPConnectionPool.urlopen\u001b[0;34m(self, method, url, body, headers, retries, redirect, assert_same_host, timeout, pool_timeout, release_conn, chunked, body_pos, **response_kw)\u001b[0m\n\u001b[1;32m    <a href='file:///usr/local/lib/python3.10/site-packages/urllib3/connectionpool.py?line=699'>700</a>\u001b[0m     \u001b[39mself\u001b[39m\u001b[39m.\u001b[39m_prepare_proxy(conn)\n\u001b[1;32m    <a href='file:///usr/local/lib/python3.10/site-packages/urllib3/connectionpool.py?line=701'>702</a>\u001b[0m \u001b[39m# Make the request on the httplib connection object.\u001b[39;00m\n\u001b[0;32m--> <a href='file:///usr/local/lib/python3.10/site-packages/urllib3/connectionpool.py?line=702'>703</a>\u001b[0m httplib_response \u001b[39m=\u001b[39m \u001b[39mself\u001b[39;49m\u001b[39m.\u001b[39;49m_make_request(\n\u001b[1;32m    <a href='file:///usr/local/lib/python3.10/site-packages/urllib3/connectionpool.py?line=703'>704</a>\u001b[0m     conn,\n\u001b[1;32m    <a href='file:///usr/local/lib/python3.10/site-packages/urllib3/connectionpool.py?line=704'>705</a>\u001b[0m     method,\n\u001b[1;32m    <a href='file:///usr/local/lib/python3.10/site-packages/urllib3/connectionpool.py?line=705'>706</a>\u001b[0m     url,\n\u001b[1;32m    <a href='file:///usr/local/lib/python3.10/site-packages/urllib3/connectionpool.py?line=706'>707</a>\u001b[0m     timeout\u001b[39m=\u001b[39;49mtimeout_obj,\n\u001b[1;32m    <a href='file:///usr/local/lib/python3.10/site-packages/urllib3/connectionpool.py?line=707'>708</a>\u001b[0m     body\u001b[39m=\u001b[39;49mbody,\n\u001b[1;32m    <a href='file:///usr/local/lib/python3.10/site-packages/urllib3/connectionpool.py?line=708'>709</a>\u001b[0m     headers\u001b[39m=\u001b[39;49mheaders,\n\u001b[1;32m    <a href='file:///usr/local/lib/python3.10/site-packages/urllib3/connectionpool.py?line=709'>710</a>\u001b[0m     chunked\u001b[39m=\u001b[39;49mchunked,\n\u001b[1;32m    <a href='file:///usr/local/lib/python3.10/site-packages/urllib3/connectionpool.py?line=710'>711</a>\u001b[0m )\n\u001b[1;32m    <a href='file:///usr/local/lib/python3.10/site-packages/urllib3/connectionpool.py?line=712'>713</a>\u001b[0m \u001b[39m# If we're going to release the connection in ``finally:``, then\u001b[39;00m\n\u001b[1;32m    <a href='file:///usr/local/lib/python3.10/site-packages/urllib3/connectionpool.py?line=713'>714</a>\u001b[0m \u001b[39m# the response doesn't need to know about the connection. Otherwise\u001b[39;00m\n\u001b[1;32m    <a href='file:///usr/local/lib/python3.10/site-packages/urllib3/connectionpool.py?line=714'>715</a>\u001b[0m \u001b[39m# it will also try to release it and we'll have a double-release\u001b[39;00m\n\u001b[1;32m    <a href='file:///usr/local/lib/python3.10/site-packages/urllib3/connectionpool.py?line=715'>716</a>\u001b[0m \u001b[39m# mess.\u001b[39;00m\n\u001b[1;32m    <a href='file:///usr/local/lib/python3.10/site-packages/urllib3/connectionpool.py?line=716'>717</a>\u001b[0m response_conn \u001b[39m=\u001b[39m conn \u001b[39mif\u001b[39;00m \u001b[39mnot\u001b[39;00m release_conn \u001b[39melse\u001b[39;00m \u001b[39mNone\u001b[39;00m\n",
      "File \u001b[0;32m/usr/local/lib/python3.10/site-packages/urllib3/connectionpool.py:386\u001b[0m, in \u001b[0;36mHTTPConnectionPool._make_request\u001b[0;34m(self, conn, method, url, timeout, chunked, **httplib_request_kw)\u001b[0m\n\u001b[1;32m    <a href='file:///usr/local/lib/python3.10/site-packages/urllib3/connectionpool.py?line=383'>384</a>\u001b[0m \u001b[39m# Trigger any extra validation we need to do.\u001b[39;00m\n\u001b[1;32m    <a href='file:///usr/local/lib/python3.10/site-packages/urllib3/connectionpool.py?line=384'>385</a>\u001b[0m \u001b[39mtry\u001b[39;00m:\n\u001b[0;32m--> <a href='file:///usr/local/lib/python3.10/site-packages/urllib3/connectionpool.py?line=385'>386</a>\u001b[0m     \u001b[39mself\u001b[39;49m\u001b[39m.\u001b[39;49m_validate_conn(conn)\n\u001b[1;32m    <a href='file:///usr/local/lib/python3.10/site-packages/urllib3/connectionpool.py?line=386'>387</a>\u001b[0m \u001b[39mexcept\u001b[39;00m (SocketTimeout, BaseSSLError) \u001b[39mas\u001b[39;00m e:\n\u001b[1;32m    <a href='file:///usr/local/lib/python3.10/site-packages/urllib3/connectionpool.py?line=387'>388</a>\u001b[0m     \u001b[39m# Py2 raises this as a BaseSSLError, Py3 raises it as socket timeout.\u001b[39;00m\n\u001b[1;32m    <a href='file:///usr/local/lib/python3.10/site-packages/urllib3/connectionpool.py?line=388'>389</a>\u001b[0m     \u001b[39mself\u001b[39m\u001b[39m.\u001b[39m_raise_timeout(err\u001b[39m=\u001b[39me, url\u001b[39m=\u001b[39murl, timeout_value\u001b[39m=\u001b[39mconn\u001b[39m.\u001b[39mtimeout)\n",
      "File \u001b[0;32m/usr/local/lib/python3.10/site-packages/urllib3/connectionpool.py:1040\u001b[0m, in \u001b[0;36mHTTPSConnectionPool._validate_conn\u001b[0;34m(self, conn)\u001b[0m\n\u001b[1;32m   <a href='file:///usr/local/lib/python3.10/site-packages/urllib3/connectionpool.py?line=1037'>1038</a>\u001b[0m \u001b[39m# Force connect early to allow us to validate the connection.\u001b[39;00m\n\u001b[1;32m   <a href='file:///usr/local/lib/python3.10/site-packages/urllib3/connectionpool.py?line=1038'>1039</a>\u001b[0m \u001b[39mif\u001b[39;00m \u001b[39mnot\u001b[39;00m \u001b[39mgetattr\u001b[39m(conn, \u001b[39m\"\u001b[39m\u001b[39msock\u001b[39m\u001b[39m\"\u001b[39m, \u001b[39mNone\u001b[39;00m):  \u001b[39m# AppEngine might not have  `.sock`\u001b[39;00m\n\u001b[0;32m-> <a href='file:///usr/local/lib/python3.10/site-packages/urllib3/connectionpool.py?line=1039'>1040</a>\u001b[0m     conn\u001b[39m.\u001b[39;49mconnect()\n\u001b[1;32m   <a href='file:///usr/local/lib/python3.10/site-packages/urllib3/connectionpool.py?line=1041'>1042</a>\u001b[0m \u001b[39mif\u001b[39;00m \u001b[39mnot\u001b[39;00m conn\u001b[39m.\u001b[39mis_verified:\n\u001b[1;32m   <a href='file:///usr/local/lib/python3.10/site-packages/urllib3/connectionpool.py?line=1042'>1043</a>\u001b[0m     warnings\u001b[39m.\u001b[39mwarn(\n\u001b[1;32m   <a href='file:///usr/local/lib/python3.10/site-packages/urllib3/connectionpool.py?line=1043'>1044</a>\u001b[0m         (\n\u001b[1;32m   <a href='file:///usr/local/lib/python3.10/site-packages/urllib3/connectionpool.py?line=1044'>1045</a>\u001b[0m             \u001b[39m\"\u001b[39m\u001b[39mUnverified HTTPS request is being made to host \u001b[39m\u001b[39m'\u001b[39m\u001b[39m%s\u001b[39;00m\u001b[39m'\u001b[39m\u001b[39m. \u001b[39m\u001b[39m\"\u001b[39m\n\u001b[0;32m   (...)\u001b[0m\n\u001b[1;32m   <a href='file:///usr/local/lib/python3.10/site-packages/urllib3/connectionpool.py?line=1049'>1050</a>\u001b[0m         InsecureRequestWarning,\n\u001b[1;32m   <a href='file:///usr/local/lib/python3.10/site-packages/urllib3/connectionpool.py?line=1050'>1051</a>\u001b[0m     )\n",
      "File \u001b[0;32m/usr/local/lib/python3.10/site-packages/urllib3/connection.py:358\u001b[0m, in \u001b[0;36mHTTPSConnection.connect\u001b[0;34m(self)\u001b[0m\n\u001b[1;32m    <a href='file:///usr/local/lib/python3.10/site-packages/urllib3/connection.py?line=355'>356</a>\u001b[0m \u001b[39mdef\u001b[39;00m \u001b[39mconnect\u001b[39m(\u001b[39mself\u001b[39m):\n\u001b[1;32m    <a href='file:///usr/local/lib/python3.10/site-packages/urllib3/connection.py?line=356'>357</a>\u001b[0m     \u001b[39m# Add certificate verification\u001b[39;00m\n\u001b[0;32m--> <a href='file:///usr/local/lib/python3.10/site-packages/urllib3/connection.py?line=357'>358</a>\u001b[0m     \u001b[39mself\u001b[39m\u001b[39m.\u001b[39msock \u001b[39m=\u001b[39m conn \u001b[39m=\u001b[39m \u001b[39mself\u001b[39;49m\u001b[39m.\u001b[39;49m_new_conn()\n\u001b[1;32m    <a href='file:///usr/local/lib/python3.10/site-packages/urllib3/connection.py?line=358'>359</a>\u001b[0m     hostname \u001b[39m=\u001b[39m \u001b[39mself\u001b[39m\u001b[39m.\u001b[39mhost\n\u001b[1;32m    <a href='file:///usr/local/lib/python3.10/site-packages/urllib3/connection.py?line=359'>360</a>\u001b[0m     tls_in_tls \u001b[39m=\u001b[39m \u001b[39mFalse\u001b[39;00m\n",
      "File \u001b[0;32m/usr/local/lib/python3.10/site-packages/urllib3/connection.py:174\u001b[0m, in \u001b[0;36mHTTPConnection._new_conn\u001b[0;34m(self)\u001b[0m\n\u001b[1;32m    <a href='file:///usr/local/lib/python3.10/site-packages/urllib3/connection.py?line=170'>171</a>\u001b[0m     extra_kw[\u001b[39m\"\u001b[39m\u001b[39msocket_options\u001b[39m\u001b[39m\"\u001b[39m] \u001b[39m=\u001b[39m \u001b[39mself\u001b[39m\u001b[39m.\u001b[39msocket_options\n\u001b[1;32m    <a href='file:///usr/local/lib/python3.10/site-packages/urllib3/connection.py?line=172'>173</a>\u001b[0m \u001b[39mtry\u001b[39;00m:\n\u001b[0;32m--> <a href='file:///usr/local/lib/python3.10/site-packages/urllib3/connection.py?line=173'>174</a>\u001b[0m     conn \u001b[39m=\u001b[39m connection\u001b[39m.\u001b[39;49mcreate_connection(\n\u001b[1;32m    <a href='file:///usr/local/lib/python3.10/site-packages/urllib3/connection.py?line=174'>175</a>\u001b[0m         (\u001b[39mself\u001b[39;49m\u001b[39m.\u001b[39;49m_dns_host, \u001b[39mself\u001b[39;49m\u001b[39m.\u001b[39;49mport), \u001b[39mself\u001b[39;49m\u001b[39m.\u001b[39;49mtimeout, \u001b[39m*\u001b[39;49m\u001b[39m*\u001b[39;49mextra_kw\n\u001b[1;32m    <a href='file:///usr/local/lib/python3.10/site-packages/urllib3/connection.py?line=175'>176</a>\u001b[0m     )\n\u001b[1;32m    <a href='file:///usr/local/lib/python3.10/site-packages/urllib3/connection.py?line=177'>178</a>\u001b[0m \u001b[39mexcept\u001b[39;00m SocketTimeout:\n\u001b[1;32m    <a href='file:///usr/local/lib/python3.10/site-packages/urllib3/connection.py?line=178'>179</a>\u001b[0m     \u001b[39mraise\u001b[39;00m ConnectTimeoutError(\n\u001b[1;32m    <a href='file:///usr/local/lib/python3.10/site-packages/urllib3/connection.py?line=179'>180</a>\u001b[0m         \u001b[39mself\u001b[39m,\n\u001b[1;32m    <a href='file:///usr/local/lib/python3.10/site-packages/urllib3/connection.py?line=180'>181</a>\u001b[0m         \u001b[39m\"\u001b[39m\u001b[39mConnection to \u001b[39m\u001b[39m%s\u001b[39;00m\u001b[39m timed out. (connect timeout=\u001b[39m\u001b[39m%s\u001b[39;00m\u001b[39m)\u001b[39m\u001b[39m\"\u001b[39m\n\u001b[1;32m    <a href='file:///usr/local/lib/python3.10/site-packages/urllib3/connection.py?line=181'>182</a>\u001b[0m         \u001b[39m%\u001b[39m (\u001b[39mself\u001b[39m\u001b[39m.\u001b[39mhost, \u001b[39mself\u001b[39m\u001b[39m.\u001b[39mtimeout),\n\u001b[1;32m    <a href='file:///usr/local/lib/python3.10/site-packages/urllib3/connection.py?line=182'>183</a>\u001b[0m     )\n",
      "File \u001b[0;32m/usr/local/lib/python3.10/site-packages/urllib3/util/connection.py:85\u001b[0m, in \u001b[0;36mcreate_connection\u001b[0;34m(address, timeout, source_address, socket_options)\u001b[0m\n\u001b[1;32m     <a href='file:///usr/local/lib/python3.10/site-packages/urllib3/util/connection.py?line=82'>83</a>\u001b[0m     \u001b[39mif\u001b[39;00m source_address:\n\u001b[1;32m     <a href='file:///usr/local/lib/python3.10/site-packages/urllib3/util/connection.py?line=83'>84</a>\u001b[0m         sock\u001b[39m.\u001b[39mbind(source_address)\n\u001b[0;32m---> <a href='file:///usr/local/lib/python3.10/site-packages/urllib3/util/connection.py?line=84'>85</a>\u001b[0m     sock\u001b[39m.\u001b[39;49mconnect(sa)\n\u001b[1;32m     <a href='file:///usr/local/lib/python3.10/site-packages/urllib3/util/connection.py?line=85'>86</a>\u001b[0m     \u001b[39mreturn\u001b[39;00m sock\n\u001b[1;32m     <a href='file:///usr/local/lib/python3.10/site-packages/urllib3/util/connection.py?line=87'>88</a>\u001b[0m \u001b[39mexcept\u001b[39;00m socket\u001b[39m.\u001b[39merror \u001b[39mas\u001b[39;00m e:\n",
      "\u001b[0;31mKeyboardInterrupt\u001b[0m: "
     ]
    }
   ],
   "source": [
    "# PersonGroupPerson get で最新のPerson情報を取得する\n",
    "# 上記で登録した画像idが含まれているはず\n",
    "keisuke = face_client.person_group_person.get(\n",
    "        person_group_id = group_keisuke.person_group_id,\n",
    "        person_id = keisuke.person_id\n",
    "    )\n",
    "print(keisuke)\n",
    "\n",
    "# Peasonの削除\n",
    "# keisuke = face_client.person_group_person.delete(\n",
    "#         person_group_id = group_keisuke.person_group_id,\n",
    "#         person_id = keisuke.person_id\n",
    "#     )\n",
    "# print(keisuke)"
   ]
  },
  {
   "cell_type": "code",
   "execution_count": 21,
   "id": "2938e0c6-efa4-46ac-9b11-2e14c8d144df",
   "metadata": {},
   "outputs": [
    {
     "name": "stdout",
     "output_type": "stream",
     "text": [
      "{'additional_properties': {}, 'name': 'keisuke group', 'user_data': None, 'recognition_model': None, 'person_group_id': 'keisuke'}\n",
      "{'additional_properties': {}, 'name': 'Tashiro Keisuke', 'user_data': None, 'person_id': '6c6c5da2-579b-4770-a67b-d60888d7e295', 'persisted_face_ids': ['4076f3ac-a8b9-4d15-a352-49ed8b113e40', '5887998a-2704-4ff0-8771-ec49653bbeb1', 'b52a74ea-d15e-4cf7-b497-07f1eacde7d8', 'f8fe2a53-9a02-40c9-92b4-176ce0bc122f']}\n"
     ]
    }
   ],
   "source": [
    "# 確認\n",
    "group_keisuke = face_client.person_group.get(\n",
    "    person_group_id,\n",
    "    name = \"keisuke group\"\n",
    ")\n",
    "print(group_keisuke)\n",
    "print(keisuke)"
   ]
  },
  {
   "cell_type": "code",
   "execution_count": 30,
   "id": "088a4662",
   "metadata": {},
   "outputs": [
    {
     "name": "stdout",
     "output_type": "stream",
     "text": [
      "8ef62a7a-1998-4809-9d28-cfadb408d94b\n",
      "{'additional_properties': {}, 'age': 33.0, 'gender': <Gender.male: 'male'>, 'smile': 0.997, 'facial_hair': None, 'glasses': None, 'head_pose': None, 'emotion': <azure.cognitiveservices.vision.face.models._models_py3.Emotion object at 0x7f9a3d7b29b0>, 'hair': None, 'makeup': None, 'occlusion': None, 'accessories': None, 'blur': None, 'exposure': None, 'noise': None, 'mask': None, 'quality_for_recognition': None}\n",
      "{'additional_properties': {}, 'anger': 0.0, 'contempt': 0.0, 'disgust': 0.0, 'fear': 0.0, 'happiness': 0.997, 'neutral': 0.003, 'sadness': 0.0, 'surprise': 0.0}\n"
     ]
    }
   ],
   "source": [
    "# 画像から表情、感情を判別 ケイスケではない写真\n",
    "with open('img/IMG_2854.JPG', 'rb') as image:\n",
    "    detected_faces = face_client.face.detect_with_stream(\n",
    "        image, \n",
    "        return_face_attributes = ['age','gender','smile','emotion']\n",
    "    )\n",
    "\n",
    "# ケイスケの写真も読み込み\n",
    "with open('img/IMG_2860.JPG', 'rb') as image:\n",
    "    detected_faces_2 = face_client.face.detect_with_stream(\n",
    "        image, \n",
    "        return_face_attributes = ['age','gender','smile','emotion']\n",
    "    )\n",
    "\n",
    "print(detected_faces[0].face_id)\n",
    "print(detected_faces[0].face_attributes)\n",
    "print(detected_faces[0].face_attributes.emotion)"
   ]
  },
  {
   "cell_type": "code",
   "execution_count": 39,
   "id": "b57e4246",
   "metadata": {},
   "outputs": [
    {
     "name": "stdout",
     "output_type": "stream",
     "text": [
      "{'additional_properties': {}, 'is_identical': True, 'confidence': 0.54267}\n",
      "{'additional_properties': {}, 'is_identical': True, 'confidence': 0.81838}\n",
      "ほぼ本人\n"
     ]
    }
   ],
   "source": [
    "# personとfaceの比較\n",
    "verified = face_client.face.verify_face_to_person(\n",
    "    face_id = detected_faces[0].face_id,\n",
    "    person_group_id = group_keisuke.person_group_id,\n",
    "    person_id = keisuke.person_id\n",
    ")\n",
    "print(verified)\n",
    "\n",
    "verified2 = face_client.face.verify_face_to_person(\n",
    "    face_id = detected_faces_2[0].face_id,\n",
    "    person_group_id = group_keisuke.person_group_id,\n",
    "    person_id = keisuke.person_id\n",
    ")\n",
    "print(verified2)\n",
    "\n",
    "if verified.confidence > 0.7:\n",
    "    print(\"完全に本人\")\n",
    "elif verified.confidence > 0.5:\n",
    "    print(\"ほぼ本人\")\n",
    "else:\n",
    "    print(\"別人\")"
   ]
  },
  {
   "cell_type": "code",
   "execution_count": 34,
   "id": "585b7da6",
   "metadata": {},
   "outputs": [
    {
     "name": "stdout",
     "output_type": "stream",
     "text": [
      "笑顔(score:0.997)\n",
      "怒り(score:0.0)\n",
      "侮蔑(score:0.0)\n",
      "嫌悪(score:0.0)\n",
      "恐怖(score:0.0)\n",
      "幸福(score:0.997)\n",
      "自然(score:0.003)\n",
      "悲哀(score:0.0)\n",
      "驚き(score:0.0)\n"
     ]
    }
   ],
   "source": [
    "# 感情・表情を抽出\n",
    "smile = detected_faces[0].face_attributes.smile\n",
    "anger = detected_faces[0].face_attributes.emotion.anger\n",
    "contempt = detected_faces[0].face_attributes.emotion.contempt\n",
    "disgust = detected_faces[0].face_attributes.emotion.disgust\n",
    "fear = detected_faces[0].face_attributes.emotion.fear\n",
    "happiness = detected_faces[0].face_attributes.emotion.happiness\n",
    "neutral = detected_faces[0].face_attributes.emotion.neutral\n",
    "sadness = detected_faces[0].face_attributes.emotion.sadness\n",
    "surprise = detected_faces[0].face_attributes.emotion.surprise\n",
    "\n",
    "print('笑顔(score:{0})\\n怒り(score:{1})\\n侮蔑(score:{2})\\n嫌悪(score:{3})\\n恐怖(score:{4})\\n幸福(score:{5})\\n自然(score:{6})\\n悲哀(score:{7})\\n驚き(score:{8})' \\\n",
    ".format(smile,anger,contempt,disgust,fear,happiness,neutral,sadness,surprise))"
   ]
  },
  {
   "cell_type": "code",
   "execution_count": null,
   "id": "6b9ad9d5",
   "metadata": {},
   "outputs": [],
   "source": []
  }
 ],
 "metadata": {
  "interpreter": {
   "hash": "949777d72b0d2535278d3dc13498b2535136f6dfe0678499012e853ee9abcab1"
  },
  "kernelspec": {
   "display_name": "Python 3 (ipykernel)",
   "language": "python",
   "name": "python3"
  },
  "language_info": {
   "codemirror_mode": {
    "name": "ipython",
    "version": 3
   },
   "file_extension": ".py",
   "mimetype": "text/x-python",
   "name": "python",
   "nbconvert_exporter": "python",
   "pygments_lexer": "ipython3",
   "version": "3.10.4"
  },
  "toc-showcode": true
 },
 "nbformat": 4,
 "nbformat_minor": 5
}
